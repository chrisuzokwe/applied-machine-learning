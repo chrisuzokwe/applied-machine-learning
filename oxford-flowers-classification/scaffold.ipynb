{
 "cells": [
  {
   "cell_type": "code",
   "execution_count": 28,
   "metadata": {},
   "outputs": [],
   "source": [
    "# retrieve dataset\n",
    "import tensorflow_datasets as tfds\n",
    "\n",
    "train, traininfo = tfds.load(\"oxford_flowers102\", split='train', as_supervised=True, with_info=True)\n",
    "val, valinfo = tfds.load(\"oxford_flowers102\", split='validation', as_supervised=True, with_info=True)\n",
    "\n",
    "#dataset_size = info.splits[\"test\"].num_examples\n",
    "#class_names = info.features[\"label\"].names\n",
    "n_classes = traininfo.features[\"label\"].num_classes\n",
    "#n_classes = traininfo.features[\"label\"].num_examples"
   ]
  },
  {
   "cell_type": "code",
   "execution_count": 29,
   "metadata": {},
   "outputs": [],
   "source": [
    "import tensorflow.compat.v2 as tf\n",
    "from tensorflow import keras\n",
    "#from preprocessDefinition import preprocess\n",
    "\n",
    "def preprocess(image, label):\n",
    "    resized_image = tf.image.resize(image, [224, 224])\n",
    "    final_image = keras.applications.vgg16. preprocess_input(resized_image)\n",
    "    return final_image, label"
   ]
  },
  {
   "cell_type": "code",
   "execution_count": 30,
   "metadata": {},
   "outputs": [],
   "source": [
    "#preprocess and shuffle the dataset, add batching and preprocessing\n",
    "\n",
    "batch_size = 32\n",
    "train = train.shuffle(1000)\n",
    "train = train.map(preprocess).batch(batch_size).prefetch(1)\n",
    "val = val.map(preprocess).batch(batch_size).prefetch(1)"
   ]
  },
  {
   "cell_type": "code",
   "execution_count": 33,
   "metadata": {},
   "outputs": [],
   "source": [
    "# load a VGG model pretrained on ImageNet and add a global average pooling layer and classification layer on top\n",
    "\n",
    "base_model = keras.applications.vgg16.VGG16(weights=\"imagenet\", include_top=False)\n",
    "avg = keras.layers.GlobalAveragePooling2D()(base_model.output)\n",
    "output = keras.layers.Dense(n_classes, activation=\"softmax\")(avg)\n",
    "model = keras.Model(inputs=base_model.input, outputs=output)"
   ]
  },
  {
   "cell_type": "code",
   "execution_count": 34,
   "metadata": {},
   "outputs": [],
   "source": [
    "for layer in base_model.layers:\n",
    "    layer.trainable = False"
   ]
  },
  {
   "cell_type": "code",
   "execution_count": 36,
   "metadata": {},
   "outputs": [
    {
     "name": "stdout",
     "output_type": "stream",
     "text": [
      "Epoch 1/5\n",
      "32/32 [==============================] - 565s 18s/step - loss: 439.1485 - accuracy: 0.1510 - val_loss: 491.4604 - val_accuracy: 0.3225\n",
      "Epoch 2/5\n",
      "32/32 [==============================] - 587s 18s/step - loss: 260.0368 - accuracy: 0.4520 - val_loss: 122.5777 - val_accuracy: 0.4912\n",
      "Epoch 3/5\n",
      "32/32 [==============================] - 663s 21s/step - loss: 61.6421 - accuracy: 0.6922 - val_loss: 75.7881 - val_accuracy: 0.5735\n",
      "Epoch 4/5\n",
      "32/32 [==============================] - 633s 20s/step - loss: 25.0567 - accuracy: 0.8216 - val_loss: 59.7862 - val_accuracy: 0.6216\n",
      "Epoch 5/5\n",
      "32/32 [==============================] - 579s 18s/step - loss: 10.7232 - accuracy: 0.8931 - val_loss: 44.3384 - val_accuracy: 0.6735\n"
     ]
    }
   ],
   "source": [
    "optimizer = keras.optimizers.SGD(lr=0.2, momentum=0.9, decay=0.01)\n",
    "model.compile(loss=\"sparse_categorical_crossentropy\", optimizer=optimizer, metrics=[\"accuracy\"])\n",
    "history = model.fit(train, epochs=5, validation_data=val)"
   ]
  }
 ],
 "metadata": {
  "kernelspec": {
   "display_name": "Python 3",
   "language": "python",
   "name": "python3"
  },
  "language_info": {
   "codemirror_mode": {
    "name": "ipython",
    "version": 3
   },
   "file_extension": ".py",
   "mimetype": "text/x-python",
   "name": "python",
   "nbconvert_exporter": "python",
   "pygments_lexer": "ipython3",
   "version": "3.7.9"
  }
 },
 "nbformat": 4,
 "nbformat_minor": 4
}
