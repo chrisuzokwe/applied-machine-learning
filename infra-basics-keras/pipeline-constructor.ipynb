{
 "cells": [
  {
   "cell_type": "markdown",
   "metadata": {},
   "source": [
    "## Download, Process, Transform"
   ]
  },
  {
   "cell_type": "code",
   "execution_count": 57,
   "metadata": {},
   "outputs": [],
   "source": [
    "# Download\n",
    "import pickle\n",
    "import pandas as pd\n",
    "\n",
    "with open('./datasets/appml-assignment1-dataset.pkl', 'rb') as f:\n",
    "    data = pickle.load(f)\n"
   ]
  },
  {
   "cell_type": "code",
   "execution_count": 123,
   "metadata": {
    "scrolled": false
   },
   "outputs": [],
   "source": [
    "# Separate Data from pkl file\n",
    "import numpy as np\n",
    "from sklearn.model_selection import train_test_split\n",
    "\n",
    "X = data['X']\n",
    "X = X.drop('date', axis=1)\n",
    "y = data['y']\n",
    "\n",
    "# Run data through pipeline/preprocessing\n",
    "from sklearn.pipeline import Pipeline\n",
    "from sklearn.preprocessing import MinMaxScaler\n",
    "from sklearn.impute import SimpleImputer\n",
    "\n",
    "pipeline = Pipeline([\n",
    "    ('imputer', SimpleImputer(strategy=\"mean\")),\n",
    "    ('norm_scaler', MinMaxScaler()),\n",
    "])\n",
    "\n",
    "preparedX = pipeline.fit_transform(X)\n",
    "preparedX = pd.DataFrame(preparedX, columns = X.columns, index=X.index)\n",
    "preparedX.describe()\n",
    "\n",
    "dy = y.values.reshape(-1,1)\n",
    "preparedY = pipeline.fit_transform(dy)\n",
    "preparedY = pd.DataFrame(preparedY, columns = [\"CAD-high\"])\n",
    "preparedY.describe()\n",
    "\n",
    "train_setX, test_setX, train_setY, test_setY = train_test_split(preparedX, preparedY, test_size=0.2, random_state=34)"
   ]
  },
  {
   "cell_type": "markdown",
   "metadata": {},
   "source": [
    "# Code 1 - Linear Regression"
   ]
  },
  {
   "cell_type": "code",
   "execution_count": 147,
   "metadata": {},
   "outputs": [
    {
     "name": "stdout",
     "output_type": "stream",
     "text": [
      "-2.7046673190655466e-06\n",
      "2.919860039240125e-06\n"
     ]
    },
    {
     "name": "stderr",
     "output_type": "stream",
     "text": [
      "C:\\Users\\Work\\.conda\\envs\\applied-ML-Fall2020\\lib\\site-packages\\ipykernel_launcher.py:9: RuntimeWarning: invalid value encountered in sqrt\n",
      "  if __name__ == '__main__':\n"
     ]
    },
    {
     "data": {
      "text/plain": [
       "['model1.pkl']"
      ]
     },
     "execution_count": 147,
     "metadata": {},
     "output_type": "execute_result"
    }
   ],
   "source": [
    "# Download\n",
    "import pickle\n",
    "import pandas as pd\n",
    "\n",
    "with open('./datasets/appml-assignment1-dataset.pkl', 'rb') as f:\n",
    "    data = pickle.load(f)\n",
    "\n",
    "# Separate Data from pkl file\n",
    "import numpy as np\n",
    "from sklearn.model_selection import train_test_split\n",
    "\n",
    "X = data['X']\n",
    "X = X.drop('date', axis=1)\n",
    "y = data['y']\n",
    "\n",
    "# Run data through pipeline/preprocessing\n",
    "from sklearn.pipeline import Pipeline\n",
    "from sklearn.preprocessing import MinMaxScaler\n",
    "from sklearn.impute import SimpleImputer\n",
    "\n",
    "\n",
    "pipeline = Pipeline([\n",
    "    ('imputer', SimpleImputer(strategy=\"mean\")),\n",
    "    ('norm_scaler', MinMaxScaler()),\n",
    "])\n",
    "\n",
    "preparedX = pipeline.fit_transform(X)\n",
    "preparedX = pd.DataFrame(preparedX, columns = X.columns, index=X.index)\n",
    "preparedX.describe()\n",
    "\n",
    "dy = y.values.reshape(-1,1)\n",
    "preparedY = pipeline.fit_transform(dy)\n",
    "preparedY = pd.DataFrame(preparedY, columns = [\"CAD-high\"])\n",
    "preparedY.describe()\n",
    "\n",
    "train_setX, test_setX, train_setY, test_setY = train_test_split(preparedX, preparedY, test_size=0.2, random_state=34)\n",
    "\n",
    "pipeline = Pipeline([\n",
    "    ('imputer', SimpleImputer(strategy=\"mean\")),\n",
    "    ('norm_scaler', MinMaxScaler()),\n",
    "])\n",
    "\n",
    "#implement model on data\n",
    "from sklearn.linear_model import LinearRegression\n",
    "lin_reg = LinearRegression()\n",
    "lin_reg.fit(train_setX, train_setY)\n",
    "\n",
    "#perform evaluation with crossvalidation\n",
    "from sklearn.model_selection import cross_val_score\n",
    "scores = cross_val_score(lin_reg, train_setX, train_setY, scoring='neg_mean_squared_error', cv = 10)\n",
    "linreg_cv_scores = np.sqrt(scores)\n",
    "print(scores.mean())\n",
    "\n",
    "#test performance on witheld data\n",
    "from sklearn.metrics import mean_squared_error\n",
    "Ytestpred = lin_reg.predict(test_setX)\n",
    "testpredrmse = mean_squared_error(test_setY,Ytestpred)\n",
    "print(testpredrmse)\n",
    "\n",
    "#save model and pipeline to pkl file\n",
    "import joblib\n",
    "joblib.dump(pipeline, \"pipeline1.pkl\")\n",
    "joblib.dump(lin_reg, \"model1.pkl\")"
   ]
  },
  {
   "cell_type": "markdown",
   "metadata": {},
   "source": [
    "# Code 2 - Stochastic Gradient Descent"
   ]
  },
  {
   "cell_type": "code",
   "execution_count": 149,
   "metadata": {},
   "outputs": [
    {
     "name": "stderr",
     "output_type": "stream",
     "text": [
      "C:\\Users\\Work\\.conda\\envs\\applied-ML-Fall2020\\lib\\site-packages\\sklearn\\utils\\validation.py:72: DataConversionWarning: A column-vector y was passed when a 1d array was expected. Please change the shape of y to (n_samples, ), for example using ravel().\n",
      "  return f(**kwargs)\n",
      "C:\\Users\\Work\\.conda\\envs\\applied-ML-Fall2020\\lib\\site-packages\\sklearn\\utils\\validation.py:72: DataConversionWarning: A column-vector y was passed when a 1d array was expected. Please change the shape of y to (n_samples, ), for example using ravel().\n",
      "  return f(**kwargs)\n",
      "C:\\Users\\Work\\.conda\\envs\\applied-ML-Fall2020\\lib\\site-packages\\sklearn\\utils\\validation.py:72: DataConversionWarning: A column-vector y was passed when a 1d array was expected. Please change the shape of y to (n_samples, ), for example using ravel().\n",
      "  return f(**kwargs)\n",
      "C:\\Users\\Work\\.conda\\envs\\applied-ML-Fall2020\\lib\\site-packages\\sklearn\\utils\\validation.py:72: DataConversionWarning: A column-vector y was passed when a 1d array was expected. Please change the shape of y to (n_samples, ), for example using ravel().\n",
      "  return f(**kwargs)\n",
      "C:\\Users\\Work\\.conda\\envs\\applied-ML-Fall2020\\lib\\site-packages\\sklearn\\utils\\validation.py:72: DataConversionWarning: A column-vector y was passed when a 1d array was expected. Please change the shape of y to (n_samples, ), for example using ravel().\n",
      "  return f(**kwargs)\n",
      "C:\\Users\\Work\\.conda\\envs\\applied-ML-Fall2020\\lib\\site-packages\\sklearn\\utils\\validation.py:72: DataConversionWarning: A column-vector y was passed when a 1d array was expected. Please change the shape of y to (n_samples, ), for example using ravel().\n",
      "  return f(**kwargs)\n",
      "C:\\Users\\Work\\.conda\\envs\\applied-ML-Fall2020\\lib\\site-packages\\sklearn\\utils\\validation.py:72: DataConversionWarning: A column-vector y was passed when a 1d array was expected. Please change the shape of y to (n_samples, ), for example using ravel().\n",
      "  return f(**kwargs)\n",
      "C:\\Users\\Work\\.conda\\envs\\applied-ML-Fall2020\\lib\\site-packages\\sklearn\\utils\\validation.py:72: DataConversionWarning: A column-vector y was passed when a 1d array was expected. Please change the shape of y to (n_samples, ), for example using ravel().\n",
      "  return f(**kwargs)\n",
      "C:\\Users\\Work\\.conda\\envs\\applied-ML-Fall2020\\lib\\site-packages\\sklearn\\utils\\validation.py:72: DataConversionWarning: A column-vector y was passed when a 1d array was expected. Please change the shape of y to (n_samples, ), for example using ravel().\n",
      "  return f(**kwargs)\n",
      "C:\\Users\\Work\\.conda\\envs\\applied-ML-Fall2020\\lib\\site-packages\\sklearn\\utils\\validation.py:72: DataConversionWarning: A column-vector y was passed when a 1d array was expected. Please change the shape of y to (n_samples, ), for example using ravel().\n",
      "  return f(**kwargs)\n"
     ]
    },
    {
     "name": "stdout",
     "output_type": "stream",
     "text": [
      "-0.0002717149720838857\n",
      "0.0004489099991727991\n"
     ]
    },
    {
     "name": "stderr",
     "output_type": "stream",
     "text": [
      "C:\\Users\\Work\\.conda\\envs\\applied-ML-Fall2020\\lib\\site-packages\\sklearn\\utils\\validation.py:72: DataConversionWarning: A column-vector y was passed when a 1d array was expected. Please change the shape of y to (n_samples, ), for example using ravel().\n",
      "  return f(**kwargs)\n",
      "C:\\Users\\Work\\.conda\\envs\\applied-ML-Fall2020\\lib\\site-packages\\ipykernel_launcher.py:9: RuntimeWarning: invalid value encountered in sqrt\n",
      "  if __name__ == '__main__':\n"
     ]
    },
    {
     "data": {
      "text/plain": [
       "['model2.pkl']"
      ]
     },
     "execution_count": 149,
     "metadata": {},
     "output_type": "execute_result"
    }
   ],
   "source": [
    "# Download\n",
    "import pickle\n",
    "import pandas as pd\n",
    "\n",
    "with open('./datasets/appml-assignment1-dataset.pkl', 'rb') as f:\n",
    "    data = pickle.load(f\n",
    "                       \n",
    "# Separate Data from pkl file\n",
    "import numpy as np\n",
    "from sklearn.model_selection import train_test_split\n",
    "\n",
    "X = data['X']\n",
    "X = X.drop('date', axis=1)\n",
    "y = data['y']\n",
    "\n",
    "# Run data through pipeline/preprocessing\n",
    "from sklearn.pipeline import Pipeline\n",
    "from sklearn.preprocessing import MinMaxScaler\n",
    "from sklearn.impute import SimpleImputer\n",
    "\n",
    "pipeline = Pipeline([\n",
    "    ('imputer', SimpleImputer(strategy=\"mean\")),\n",
    "    ('norm_scaler', MinMaxScaler()),\n",
    "])\n",
    "\n",
    "preparedX = pipeline.fit_transform(X)\n",
    "preparedX = pd.DataFrame(preparedX, columns = X.columns, index=X.index)\n",
    "preparedX.describe()\n",
    "\n",
    "dy = y.values.reshape(-1,1)\n",
    "preparedY = pipeline.fit_transform(dy)\n",
    "preparedY = pd.DataFrame(preparedY, columns = [\"CAD-high\"])\n",
    "preparedY.describe()\n",
    "\n",
    "train_setX, test_setX, train_setY, test_setY = train_test_split(preparedX, preparedY, test_size=0.2, random_state=34)\n",
    "    \n",
    "#implement different model on data\n",
    "from sklearn.linear_model import SGDRegressor\n",
    "sgd_reg = SGDRegressor()\n",
    "sgd_reg.fit(train_setX, train_setY)\n",
    "\n",
    "#perform evaluation with crossvalidation\n",
    "from sklearn.model_selection import cross_val_score\n",
    "scores = cross_val_score(sgd_reg, train_setX, train_setY, scoring='neg_mean_squared_error', cv = 10)\n",
    "sgdreg_cv_scores = np.sqrt(scores)\n",
    "print(scores.mean())\n",
    "\n",
    "#test performance on witheld data\n",
    "from sklearn.metrics import mean_squared_error\n",
    "Ytestpred = sgd_reg.predict(test_setX)\n",
    "testpredrmse = mean_squared_error(test_setY[:1] ,Ytestpred[:1])\n",
    "print(testpredrmse)\n",
    "\n",
    "#save model and pipeline to pkl file\n",
    "import joblib\n",
    "joblib.dump(pipeline, \"pipeline2.pkl\")\n",
    "joblib.dump(sgd_reg, \"model2.pkl\")"
   ]
  }
 ],
 "metadata": {
  "kernelspec": {
   "display_name": "Python 3",
   "language": "python",
   "name": "python3"
  },
  "language_info": {
   "codemirror_mode": {
    "name": "ipython",
    "version": 3
   },
   "file_extension": ".py",
   "mimetype": "text/x-python",
   "name": "python",
   "nbconvert_exporter": "python",
   "pygments_lexer": "ipython3",
   "version": "3.7.9"
  }
 },
 "nbformat": 4,
 "nbformat_minor": 4
}
